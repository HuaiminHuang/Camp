{
 "cells": [
  {
   "cell_type": "code",
   "execution_count": 1,
   "id": "bb293bbc-383f-4c1e-b396-a08e29a6c271",
   "metadata": {},
   "outputs": [],
   "source": [
    "import torch\n",
    "import torch.nn as nn\n",
    "import torch.functional as F\n"
   ]
  },
  {
   "cell_type": "code",
   "execution_count": 2,
   "id": "62ab9ae6-c2e5-43ba-a016-5ae317a64d7f",
   "metadata": {},
   "outputs": [
    {
     "data": {
      "text/plain": [
       "'2.5.1+cu118'"
      ]
     },
     "execution_count": 2,
     "metadata": {},
     "output_type": "execute_result"
    }
   ],
   "source": [
    "torch.__version__"
   ]
  },
  {
   "cell_type": "code",
   "execution_count": 3,
   "id": "18e9fbdb-7f34-4c24-9ef6-76031fd6fe9d",
   "metadata": {},
   "outputs": [
    {
     "name": "stdout",
     "output_type": "stream",
     "text": [
      "Python版本: 3.10.18 | packaged by Anaconda, Inc. | (main, Jun  5 2025, 13:08:55) [MSC v.1929 64 bit (AMD64)]\n",
      "PyTorch版本: 2.5.1+cu118\n",
      "CUDA是否可用: True\n",
      "CUDA版本: 11.8\n",
      "当前GPU设备: 0\n",
      "GPU设备名称: NVIDIA GeForce RTX 4060 Laptop GPU\n",
      "可用GPU数量: 1\n"
     ]
    }
   ],
   "source": [
    "import torch\n",
    "import sys\n",
    "\n",
    "print(f\"Python版本: {sys.version}\")\n",
    "print(f\"PyTorch版本: {torch.__version__}\")\n",
    "print(f\"CUDA是否可用: {torch.cuda.is_available()}\")\n",
    "if torch.cuda.is_available():\n",
    "    print(f\"CUDA版本: {torch.version.cuda}\")\n",
    "    print(f\"当前GPU设备: {torch.cuda.current_device()}\")\n",
    "    print(f\"GPU设备名称: {torch.cuda.get_device_name()}\")\n",
    "    print(f\"可用GPU数量: {torch.cuda.device_count()}\")\n",
    "else:\n",
    "    print(\"CUDA不可用 - 可能是CPU版本的PyTorch\")"
   ]
  }
 ],
 "metadata": {
  "kernelspec": {
   "display_name": "Python 3 (ipykernel)",
   "language": "python",
   "name": "python3"
  },
  "language_info": {
   "codemirror_mode": {
    "name": "ipython",
    "version": 3
   },
   "file_extension": ".py",
   "mimetype": "text/x-python",
   "name": "python",
   "nbconvert_exporter": "python",
   "pygments_lexer": "ipython3",
   "version": "3.10.18"
  }
 },
 "nbformat": 4,
 "nbformat_minor": 5
}
