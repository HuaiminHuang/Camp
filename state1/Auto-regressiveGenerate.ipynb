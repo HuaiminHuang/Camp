{
 "cells": [
  {
   "cell_type": "markdown",
   "id": "0d74213c",
   "metadata": {},
   "source": [
    "# 自回归语言生成\n",
    "我们先回顾一下自回归 (auto-regressive) 语言生成的过程。自回归语言生成假设每个词语序列的概率都可以分解为一系列条件词语概率的乘积："
   ]
  },
  {
   "cell_type": "markdown",
   "id": "bbd16cb7",
   "metadata": {},
   "source": [
    "$$P\\left(w_{1: T} \\mid W_{0}\\right)=\\prod_{t=1}^{T} P\\left(w_{t} \\mid w_{1: t-1}, W_{0}\\right), \\quad w_{1: 0}=\\varnothing$$\n",
    "\n",
    "基于上下文 $W_0$ 以及已经生成的词 $\\omega_{1:t-1}$ 进行下一个词的预测 $\\omega_t$，这就就是*自回归 (auto-regressive)*\n",
    "- 生成的序列长度通常不是预先确定的，而是通过生成出休止符结（EOS token）束迭代\n",
    "- 下面我们将介绍目前常用的四种解码方式：\n",
    "\n",
    "    - 贪心搜索 (Greedy Search)\n",
    "    - 柱搜索 (Beam search)\n",
    "    - Top-K 采样 (Top-K sampling)\n",
    "    - Top-p 采样 (Top-p sampling)。"
   ]
  },
  {
   "cell_type": "code",
   "execution_count": 1,
   "id": "930a635f",
   "metadata": {},
   "outputs": [],
   "source": [
    "from transformers import GPT2Tokenizer, GPT2LMHeadModel\n",
    "import torch\n",
    "\n",
    "# 加载 GPT-2 模型与分词器\n",
    "model_name = \"gpt2\"   \n",
    "tokenizer = GPT2Tokenizer.from_pretrained(model_name)\n",
    "model = GPT2LMHeadModel.from_pretrained(model_name)\n",
    "device = \"cuda\" if torch.cuda.is_available() else \"cpu\"\n",
    "model = model.to(device)"
   ]
  },
  {
   "cell_type": "code",
   "execution_count": 2,
   "id": "78cf628d",
   "metadata": {},
   "outputs": [],
   "source": [
    "# 输入提示\n",
    "prompt = \"The meaning of life is\"\n",
    "input_ids = tokenizer.encode(prompt, return_tensors=\"pt\").to(device)\n"
   ]
  },
  {
   "cell_type": "markdown",
   "id": "f4d6f1b0",
   "metadata": {},
   "source": [
    "## 1. 贪心搜索 (Greedy Search)\n",
    "\n",
    "**原理**  \n",
    "在每一步预测时，贪心搜索都会从模型给出的概率分布中选择概率最大的那个词作为当前的输出。  \n",
    "\n",
    "$$x_t = \\arg\\max_{w \\in V} P(w | x_{<t})$$\n",
    "\n",
    "**优点**  \n",
    "- 简单直观，计算开销小。  \n",
    "- 生成结果通常比较连贯，尤其在语言模型较强的情况下。  \n",
    "\n",
    "**缺点**  \n",
    "- 容易陷入局部最优，缺乏多样性。  \n",
    "- 在开放式文本生成中，容易出现模式化、重复的句子。  "
   ]
  },
  {
   "cell_type": "code",
   "execution_count": 3,
   "id": "ac35c670",
   "metadata": {},
   "outputs": [
    {
     "name": "stderr",
     "output_type": "stream",
     "text": [
      "The attention mask is not set and cannot be inferred from input because pad token is same as eos token. As a consequence, you may observe unexpected behavior. Please pass your input's `attention_mask` to obtain reliable results.\n"
     ]
    },
    {
     "name": "stdout",
     "output_type": "stream",
     "text": [
      "Greedy Search:\n",
      " The meaning of life is not the same as the meaning of death.\n",
      "\n",
      "The meaning of life is not the same as the meaning of death.\n"
     ]
    }
   ],
   "source": [
    "# 1. 贪心搜索 (Greedy Search)\n",
    "greedy_output = model.generate(\n",
    "    input_ids,\n",
    "    max_length=30,\n",
    "    do_sample=False,  # 不采样，直接取最大概率\n",
    "    pad_token_id=tokenizer.eos_token_id\n",
    ")\n",
    "print(\"Greedy Search:\\n\", tokenizer.decode(greedy_output[0], skip_special_tokens=True))\n"
   ]
  },
  {
   "cell_type": "markdown",
   "id": "7018f69a",
   "metadata": {},
   "source": [
    "## 2. 束搜索 (Beam Search)\n",
    "\n",
    "**原理**  \n",
    "束搜索在每一步保留 \\(k\\) 个概率最高的候选序列，而不是只选择一个。  \n",
    "每个候选在后续步骤继续扩展，最终从所有候选中选择整体概率最高的序列。  \n",
    "\n",
    "目标函数：  \n",
    "\n",
    "$$\\hat{x} = \\arg\\max_{x \\in V^T} P(x | \\text{input})$$\n",
    "\n",
    "**优点**  \n",
    "- 比贪心搜索更接近全局最优。  \n",
    "- 在机器翻译、摘要等需要精确性的任务上表现良好。  \n",
    "\n",
    "**缺点**  \n",
    "- 束宽太小 → 结果和贪心差不多。  \n",
    "- 束宽太大 → 可能生成过长或缺乏多样性的文本。  \n",
    "- 在开放式生成任务（如写故事）中，常常显得“刻板”。  "
   ]
  },
  {
   "cell_type": "code",
   "execution_count": 4,
   "id": "1b049982",
   "metadata": {},
   "outputs": [
    {
     "name": "stdout",
     "output_type": "stream",
     "text": [
      "\n",
      "Beam Search:\n",
      " The meaning of life is not the same as the meaning of death. The meaning of life is not the same as the meaning of death.\n",
      "\n",
      "\n"
     ]
    }
   ],
   "source": [
    "# 2. 束搜索 (Beam Search)\n",
    "beam_output = model.generate(\n",
    "    input_ids,\n",
    "    max_length=30,\n",
    "    num_beams=5,      # beam size = 5\n",
    "    early_stopping=True,\n",
    "    pad_token_id=tokenizer.eos_token_id\n",
    ")\n",
    "print(\"\\nBeam Search:\\n\", tokenizer.decode(beam_output[0], skip_special_tokens=True))\n"
   ]
  },
  {
   "cell_type": "markdown",
   "id": "24609c95",
   "metadata": {},
   "source": [
    "## 3. Top-K 采样 (Top-K Sampling)\n",
    "\n",
    "**原理**  \n",
    "在每一步生成时，不是直接选取概率最大的词，而是从概率前 \\(K\\) 个词中进行随机采样。  \n",
    "换句话说，只考虑前 \\(K\\) 个候选，其他词的概率置为零，然后进行归一化。  \n",
    "\n",
    "**优点**  \n",
    "- 引入了随机性，输出更加多样化。  \n",
    "- 控制生成的质量与多样性平衡。  \n",
    "\n",
    "**缺点**  \n",
    "- 如果 \\(K\\) 选得太小，结果接近贪心搜索。  \n",
    "- 如果 \\(K\\) 太大，可能引入低质量、不相关的词。  "
   ]
  },
  {
   "cell_type": "code",
   "execution_count": 5,
   "id": "d3a81535",
   "metadata": {},
   "outputs": [
    {
     "name": "stdout",
     "output_type": "stream",
     "text": [
      "\n",
      "Top-K Sampling:\n",
      " The meaning of life is not a mere set of numbers, but the structure of the human heart that generates it.\n",
      "\n",
      "For more than a century\n"
     ]
    }
   ],
   "source": [
    "# 3. Top-K 采样\n",
    "topk_output = model.generate(\n",
    "    input_ids,\n",
    "    max_length=30,\n",
    "    do_sample=True,\n",
    "    top_k=50,        # 只保留概率前50个词进行采样\n",
    "    temperature=1.0,  # 温度系数，越大越随机\n",
    "    pad_token_id=tokenizer.eos_token_id\n",
    ")\n",
    "print(\"\\nTop-K Sampling:\\n\", tokenizer.decode(topk_output[0], skip_special_tokens=True))"
   ]
  },
  {
   "cell_type": "markdown",
   "id": "49058383",
   "metadata": {},
   "source": [
    "## 4. Top-p 采样 (Nucleus Sampling)\n",
    "\n",
    "**原理**  \n",
    "与 Top-K 不同，Top-p 采样不是固定数量 \\(K\\)，而是动态选择累计概率超过阈值 \\(p\\) 的最小词集合，然后从中采样。  \n",
    "\n",
    "找到最小集合 $V_p$ ，使得：  \n",
    "\n",
    "$$\\sum_{w \\in V_p} P(w | x_{<t}) \\geq p$$\n",
    "\n",
    "\n",
    "**优点**  \n",
    "- 自适应选择候选数量：高置信度时集合小，低置信度时集合大。  \n",
    "- 通常比 Top-K 更自然，因为它考虑了概率分布的形状。  \n",
    "\n",
    "**缺点**  \n",
    "- 参数 \\(p\\) 需要调优（常见 0.8 ~ 0.95）。  \n",
    "- 如果 \\(p\\) 过大，仍可能生成低质量文本。  "
   ]
  },
  {
   "cell_type": "code",
   "execution_count": 6,
   "id": "46531772",
   "metadata": {},
   "outputs": [
    {
     "name": "stdout",
     "output_type": "stream",
     "text": [
      "\n",
      "Top-p Sampling:\n",
      " The meaning of life is to make sure you are living for the good of the species.\n",
      "\n",
      "What is a man's life?\n",
      "\n",
      "When\n"
     ]
    }
   ],
   "source": [
    "# 4. Top-p 采样 (Nucleus Sampling)\n",
    "topp_output = model.generate(\n",
    "    input_ids,\n",
    "    max_length=30,\n",
    "    do_sample=True,\n",
    "    top_p=0.9,       # nucleus 采样，累计概率达到 0.9 的集合中采样\n",
    "    temperature=1.0,\n",
    "    pad_token_id=tokenizer.eos_token_id\n",
    ")\n",
    "print(\"\\nTop-p Sampling:\\n\", tokenizer.decode(topp_output[0], skip_special_tokens=True))"
   ]
  },
  {
   "cell_type": "code",
   "execution_count": 7,
   "id": "543c6b6a",
   "metadata": {},
   "outputs": [
    {
     "name": "stdout",
     "output_type": "stream",
     "text": [
      "The meaning of life is to live with fear and for God we have found no other way than to take things for granted,\" he says.\n",
      "\n",
      "The church has been in crisis for the last year, in part because of the number of gay men in its ranks, a sign that people are increasingly concerned about the lack of faith and the lack of acceptance they receive.\n",
      "\n",
      "\"They are becoming very fearful of the fact that their community will lose its confidence in the church and is in a position to lose its legitimacy in a church that is as homophobic as it is a civil society,\" says Sacks.\n",
      "\n",
      "In the last two\n"
     ]
    }
   ],
   "source": [
    "# Beam Search + Top-p 组合策略\n",
    "output = model.generate(\n",
    "    input_ids,\n",
    "    max_length=128,\n",
    "    do_sample=True,   # 结合采样\n",
    "    top_p=0.9,        # nucleus sampling\n",
    "    top_k=50,\n",
    "    pad_token_id=tokenizer.eos_token_id\n",
    ")\n",
    "\n",
    "print(tokenizer.decode(output[0], skip_special_tokens=True))\n"
   ]
  },
  {
   "cell_type": "markdown",
   "id": "92c5a400",
   "metadata": {},
   "source": [
    "```markdown\n",
    "The meaning of life is the whole or part of life: it is a system of human activities and their means, not only for the creation and maintenance of life, but also for the social organization and management of life. Life is a living thing, whether it be that which it is capable of producing or is capable of producing. It has its means and its methods of production, of maintenance, and in a very different sense also for the production of the means of life. There are two kinds of life: the natural and the artificial. All natural life is a living thing that is dependent on other living things, which are different from the\n",
    "```"
   ]
  }
 ],
 "metadata": {
  "kernelspec": {
   "display_name": "Python 3 (ipykernel)",
   "language": "python",
   "name": "python3"
  },
  "language_info": {
   "codemirror_mode": {
    "name": "ipython",
    "version": 3
   },
   "file_extension": ".py",
   "mimetype": "text/x-python",
   "name": "python",
   "nbconvert_exporter": "python",
   "pygments_lexer": "ipython3",
   "version": "3.10.18"
  }
 },
 "nbformat": 4,
 "nbformat_minor": 5
}
