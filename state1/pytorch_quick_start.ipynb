{
 "cells": [
  {
   "cell_type": "markdown",
   "id": "7df16659-c5d1-4672-827a-f52c37357a3a",
   "metadata": {},
   "source": [
    "# 快速学习 pytorch 使用手册"
   ]
  },
  {
   "cell_type": "markdown",
   "id": "2060ce58-eeca-425f-95ab-9a5c5fb07e48",
   "metadata": {},
   "source": [
    "张量 (Tensor) 是深度学习的基础，例如常见的 0 维张量称为标量 (scalar)、\n",
    "1 维张量称为向量 (vector)、2 维张量称为矩阵 (matrix)。\n",
    "Pytorch 本质上就是一个基于张量的数学计算工具包，它提供了多种方式来创建张量："
   ]
  },
  {
   "cell_type": "code",
   "execution_count": null,
   "id": "79ac21a8-a552-4f3e-86f4-f8c5c69cb3ac",
   "metadata": {},
   "outputs": [],
   "source": []
  }
 ],
 "metadata": {
  "kernelspec": {
   "display_name": "Python 3 (ipykernel)",
   "language": "python",
   "name": "python3"
  },
  "language_info": {
   "codemirror_mode": {
    "name": "ipython",
    "version": 3
   },
   "file_extension": ".py",
   "mimetype": "text/x-python",
   "name": "python",
   "nbconvert_exporter": "python",
   "pygments_lexer": "ipython3",
   "version": "3.10.18"
  }
 },
 "nbformat": 4,
 "nbformat_minor": 5
}
